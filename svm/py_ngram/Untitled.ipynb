{
 "cells": [
  {
   "cell_type": "code",
   "execution_count": 1,
   "metadata": {},
   "outputs": [],
   "source": [
    "from joblib import dump, load\n",
    "import ngram as ng\n",
    "#from modulku import praproses as pps"
   ]
  },
  {
   "cell_type": "code",
   "execution_count": 3,
   "metadata": {},
   "outputs": [],
   "source": [
    "# load the model from disk TF-idf\n",
    "filename = 'model/tfdf_model_n_gram.joblib'\n",
    "tfidf_ngram = load(filename)\n",
    "\n",
    "# load the model from disk SVM_ngram\n",
    "filename = 'model/svm_model_n_gram_irham.joblib'\n",
    "SVM_ngram = load(filename)"
   ]
  },
  {
   "cell_type": "code",
   "execution_count": 13,
   "metadata": {},
   "outputs": [
    {
     "name": "stdout",
     "output_type": "stream",
     "text": [
      "  lebih_baik lagi\n",
      "<< N-Gram  : Positive>>\n"
     ]
    }
   ],
   "source": [
    "proses = \"lebih baik lagi\"\n",
    "proses = ng.ngram(proses)\n",
    "tfidf_matrix_ng = tfidf_ngram.transform([proses])\n",
    "\n",
    "prediksi_ng = SVM_ngram.predict(tfidf_matrix_ng.toarray())[0]\n",
    "print(\"  \"+proses)\n",
    "print(\"<< N-Gram  : \"+prediksi_ng+\">>\")"
   ]
  },
  {
   "cell_type": "code",
   "execution_count": null,
   "metadata": {},
   "outputs": [],
   "source": []
  }
 ],
 "metadata": {
  "kernelspec": {
   "display_name": "Python 3",
   "language": "python",
   "name": "python3"
  },
  "language_info": {
   "codemirror_mode": {
    "name": "ipython",
    "version": 3
   },
   "file_extension": ".py",
   "mimetype": "text/x-python",
   "name": "python",
   "nbconvert_exporter": "python",
   "pygments_lexer": "ipython3",
   "version": "3.7.3"
  }
 },
 "nbformat": 4,
 "nbformat_minor": 2
}
