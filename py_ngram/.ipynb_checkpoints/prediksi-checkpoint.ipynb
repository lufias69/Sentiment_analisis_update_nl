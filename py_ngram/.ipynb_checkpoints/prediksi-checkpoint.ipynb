{
 "cells": [
  {
   "cell_type": "code",
   "execution_count": 1,
   "metadata": {},
   "outputs": [],
   "source": [
    "from joblib import load\n",
    "import ngram as ng"
   ]
  },
  {
   "cell_type": "code",
   "execution_count": 2,
   "metadata": {},
   "outputs": [],
   "source": [
    "import os\n",
    "import pymysql\n",
    "import pymysql.cursors"
   ]
  },
  {
   "cell_type": "code",
   "execution_count": null,
   "metadata": {},
   "outputs": [],
   "source": [
    "host = os.getenv('localhost')\n",
    "port = os.getenv('3306')\n",
    "user = os.getenv('root')\n",
    "password = os.getenv('')\n",
    "database = os.getenv('test3')\n",
    "\n",
    "conn = pymysql.connect(\n",
    "    host=host,\n",
    "    port=int(3306),\n",
    "    user=\"root\",\n",
    "    passwd=password,\n",
    "    db=\"test3\",\n",
    "    charset='utf8mb4')\n",
    "cursor=conn.cursor()"
   ]
  },
  {
   "cell_type": "code",
   "execution_count": 4,
   "metadata": {},
   "outputs": [],
   "source": [
    "# load the model from disk TF-idf\n",
    "filename = 'model/tfdf_model_n_gram.joblib'\n",
    "tfidf = load(filename)\n",
    "\n",
    "# load the model from disk SVM\n",
    "filename = 'model/svm_model_n_gram_irham.joblib'\n",
    "SVM = load(filename)"
   ]
  },
  {
   "cell_type": "code",
   "execution_count": 5,
   "metadata": {},
   "outputs": [
    {
     "name": "stdout",
     "output_type": "stream",
     "text": [
      "  lebih_baik lagi\n",
      "<< N-Gram  : Positive>>\n"
     ]
    }
   ],
   "source": [
    "proses = \"lebih baik lagi\"\n",
    "proses = ng.ngram(proses)\n",
    "tfidf_matrix_ng = tfidf.transform([proses])\n",
    "\n",
    "prediksi_lx = SVM.predict(tfidf_matrix_ng.toarray())[0]\n",
    "print(\"  \"+proses)\n",
    "print(\"<< N-Gram  : \"+prediksi_lx+\">>\")"
   ]
  },
  {
   "cell_type": "code",
   "execution_count": 6,
   "metadata": {},
   "outputs": [
    {
     "data": {
      "text/plain": [
       "'Positive'"
      ]
     },
     "execution_count": 6,
     "metadata": {},
     "output_type": "execute_result"
    }
   ],
   "source": [
    "def prediksi(proses):\n",
    "    proses = ng.ngram(proses)\n",
    "    tfidf_matrix_ng = tfidf.transform([proses])\n",
    "    prediksi_lx = SVM.predict(tfidf_matrix_ng.toarray())[0]\n",
    "    return prediksi_lx\n",
    "\n",
    "prediksi(proses)"
   ]
  },
  {
   "cell_type": "code",
   "execution_count": null,
   "metadata": {},
   "outputs": [],
   "source": [
    "df = pd.read_sql_query(\"SELECT * FROM komentar_siswa_data_bersih;\",conn)\n",
    "df.head(10)\n",
    "n_data = list()\n",
    "id_ = df['id'].tolist()\n",
    "asli = df['catatan_kuesioner'].tolist() #catatan_kuesioner harus diganti dengan data kotor/data belum masuk preprocessing\n",
    "for i in df['catatan_kuesioner'].tolist():\n",
    "    n_data.append(i.replace(\"[\",\"\").replace(\"]\",\"\").replace('\"',\"\").replace(',',\" \"))\n",
    "n_data"
   ]
  },
  {
   "cell_type": "code",
   "execution_count": null,
   "metadata": {},
   "outputs": [],
   "source": [
    "pred_list = list()\n",
    "for p, ix in zip(n_data, id_):\n",
    "    hasil = prediksi(p)\n",
    "    pred_list.append(hasil)\n",
    "#     print(hasil)\n",
    "    sql = \"UPDATE komentar_siswa_data_bersih SET class_prediksi = '%s' WHERE `id` = '%s'\" % (hasil, ix)\n",
    "    print(hasil, ix)\n",
    "    try:\n",
    "        cursor.execute(sql)\n",
    "        conn.commit()\n",
    "    except:\n",
    "        conn.rollback()"
   ]
  },
  {
   "cell_type": "code",
   "execution_count": null,
   "metadata": {},
   "outputs": [],
   "source": [
    "dictt={\n",
    "    'id':id_,\n",
    "    \"label prediksi\":pred_list,\n",
    "    \"komentar\":n_data,\n",
    "    \"komentar_asli\":asli,\n",
    "}\n",
    "df=pd.DataFrame.from_dict(dictt)\n",
    "df.to_excel(\"hasil_prediksi.xlsx\")"
   ]
  }
 ],
 "metadata": {
  "kernelspec": {
   "display_name": "Python 3",
   "language": "python",
   "name": "python3"
  },
  "language_info": {
   "codemirror_mode": {
    "name": "ipython",
    "version": 3
   },
   "file_extension": ".py",
   "mimetype": "text/x-python",
   "name": "python",
   "nbconvert_exporter": "python",
   "pygments_lexer": "ipython3",
   "version": "3.7.3"
  }
 },
 "nbformat": 4,
 "nbformat_minor": 2
}
